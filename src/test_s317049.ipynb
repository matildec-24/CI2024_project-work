{
 "cells": [
  {
   "cell_type": "code",
   "execution_count": 1,
   "metadata": {},
   "outputs": [],
   "source": [
    "import numpy as np"
   ]
  },
  {
   "cell_type": "code",
   "execution_count": 2,
   "metadata": {},
   "outputs": [],
   "source": [
    "import s317049"
   ]
  },
  {
   "cell_type": "code",
   "execution_count": 4,
   "metadata": {},
   "outputs": [
    {
     "name": "stdout",
     "output_type": "stream",
     "text": [
      "MSE (train): 0.000228879\n"
     ]
    }
   ],
   "source": [
    "problem = np.load('problem_0.npz')\n",
    "x = problem['x']\n",
    "y = problem['y']\n",
    "print(f\"MSE (train): {100*np.square(y-s317049.f0(x)).sum()/len(y):g}\")"
   ]
  },
  {
   "cell_type": "code",
   "execution_count": 5,
   "metadata": {},
   "outputs": [
    {
     "name": "stdout",
     "output_type": "stream",
     "text": [
      "MSE (train): 0.328086\n"
     ]
    }
   ],
   "source": [
    "problem = np.load('problem_1.npz')\n",
    "x = problem['x']\n",
    "y = problem['y']\n",
    "print(f\"MSE (train): {100*np.square(y-s317049.f1(x)).sum()/len(y):g}\")"
   ]
  },
  {
   "cell_type": "code",
   "execution_count": 6,
   "metadata": {},
   "outputs": [
    {
     "name": "stdout",
     "output_type": "stream",
     "text": [
      "MSE (train): 1.90536e+15\n"
     ]
    }
   ],
   "source": [
    "problem = np.load('problem_2.npz')\n",
    "x = problem['x']\n",
    "y = problem['y']\n",
    "print(f\"MSE (train): {100*np.square(y-s317049.f2(x)).sum()/len(y):g}\")"
   ]
  },
  {
   "cell_type": "code",
   "execution_count": 7,
   "metadata": {},
   "outputs": [
    {
     "name": "stdout",
     "output_type": "stream",
     "text": [
      "MSE (train): 10291\n"
     ]
    }
   ],
   "source": [
    "problem = np.load('problem_3.npz')\n",
    "x = problem['x']\n",
    "y = problem['y']\n",
    "print(f\"MSE (train): {100*np.square(y-s317049.f3(x)).sum()/len(y):g}\")"
   ]
  },
  {
   "cell_type": "code",
   "execution_count": 8,
   "metadata": {},
   "outputs": [
    {
     "name": "stdout",
     "output_type": "stream",
     "text": [
      "MSE (train): 6.87446\n"
     ]
    }
   ],
   "source": [
    "problem = np.load('problem_4.npz')\n",
    "x = problem['x']\n",
    "y = problem['y']\n",
    "print(f\"MSE (train): {100*np.square(y-s317049.f4(x)).sum()/len(y):g}\")"
   ]
  },
  {
   "cell_type": "code",
   "execution_count": 9,
   "metadata": {},
   "outputs": [
    {
     "name": "stdout",
     "output_type": "stream",
     "text": [
      "MSE (train): 5.57281e-16\n"
     ]
    }
   ],
   "source": [
    "problem = np.load('problem_5.npz')\n",
    "x = problem['x']\n",
    "y = problem['y']\n",
    "print(f\"MSE (train): {100*np.square(y-s317049.f5(x)).sum()/len(y):g}\")"
   ]
  },
  {
   "cell_type": "code",
   "execution_count": 10,
   "metadata": {},
   "outputs": [
    {
     "name": "stdout",
     "output_type": "stream",
     "text": [
      "MSE (train): 0.779218\n"
     ]
    }
   ],
   "source": [
    "problem = np.load('problem_6.npz')\n",
    "x = problem['x']\n",
    "y = problem['y']\n",
    "print(f\"MSE (train): {100*np.square(y-s317049.f6(x)).sum()/len(y):g}\")"
   ]
  },
  {
   "cell_type": "code",
   "execution_count": 11,
   "metadata": {},
   "outputs": [
    {
     "name": "stdout",
     "output_type": "stream",
     "text": [
      "MSE (train): 8807.94\n"
     ]
    }
   ],
   "source": [
    "problem = np.load('problem_7.npz')\n",
    "x = problem['x']\n",
    "y = problem['y']\n",
    "print(f\"MSE (train): {100*np.square(y-s317049.f7(x)).sum()/len(y):g}\")"
   ]
  },
  {
   "cell_type": "code",
   "execution_count": 12,
   "metadata": {},
   "outputs": [
    {
     "name": "stdout",
     "output_type": "stream",
     "text": [
      "MSE (train): 2.27058e+09\n"
     ]
    }
   ],
   "source": [
    "problem = np.load('problem_8.npz')\n",
    "x = problem['x']\n",
    "y = problem['y']\n",
    "print(f\"MSE (train): {100*np.square(y-s317049.f8(x)).sum()/len(y):g}\")"
   ]
  }
 ],
 "metadata": {
  "kernelspec": {
   "display_name": "base",
   "language": "python",
   "name": "python3"
  },
  "language_info": {
   "codemirror_mode": {
    "name": "ipython",
    "version": 3
   },
   "file_extension": ".py",
   "mimetype": "text/x-python",
   "name": "python",
   "nbconvert_exporter": "python",
   "pygments_lexer": "ipython3",
   "version": "3.9.13"
  }
 },
 "nbformat": 4,
 "nbformat_minor": 2
}
