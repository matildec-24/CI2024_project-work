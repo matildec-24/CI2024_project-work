{
 "cells": [
  {
   "cell_type": "code",
   "execution_count": 3,
   "metadata": {},
   "outputs": [],
   "source": [
    "import numpy as np\n",
    "import random\n",
    "import pandas as pd\n",
    "import warnings\n",
    "import math"
   ]
  },
  {
   "cell_type": "code",
   "execution_count": 33,
   "metadata": {},
   "outputs": [],
   "source": [
    "def add(x1, x2):\n",
    "    return np.add(x1, x2)\n",
    "\n",
    "def subtract(x1, x2):\n",
    "    return np.subtract(x1, x2)\n",
    "\n",
    "def multiply(x1, x2):\n",
    "    return np.multiply(x1, x2)\n",
    "\n",
    "def divide(x1, x2):\n",
    "    return np.divide(x1, x2)\n",
    "\n",
    "def power(x1, x2):\n",
    "    return np.power(x1, x2)\n",
    "\n",
    "binary_functions = [add, subtract, multiply, divide, power]                                                                                                                                         \n",
    "\n",
    "def log(x):\n",
    "    return np.log(x)\n",
    "\n",
    "def log10(x):\n",
    "    return np.log10(x)\n",
    "\n",
    "def arccos(x):\n",
    "    return np.arccos(x)\n",
    "\n",
    "def arcsin(x):\n",
    "    return np.arcsin(x)\n",
    "\n",
    "def sqrt(x):\n",
    "    return np.sqrt(x)\n",
    "\n",
    "unary_functions = [\n",
    "    np.sin, np.cos, np.exp, np.abs, np.square,\n",
    "    log, log10, sqrt,\n",
    "    arcsin, arccos\n",
    "]\n",
    "\n",
    "constants = lambda: random.uniform(-10, 10)\n",
    "constants_nozero = lambda: random.uniform(-10, 10) or constants_nozero()\n",
    "constants_positive = lambda: random.uniform(0, 10)\n",
    "constants_positive_nozero = lambda: random.uniform(0, 10) or constants_positive_nozero()\n",
    "constants_interval = lambda: random.uniform(-1, 1)\n",
    "\n",
    "#constants = lambda: random.uniform(-1000, 1000)\n",
    "#constants_nozero = lambda: random.uniform(-1000, 1000) or constants_nozero()\n",
    "#constants_positive = lambda: random.uniform(0, 1000)\n",
    "#constants_positive_nozero = lambda: random.uniform(0, 1000) or constants_positive_nozero()\n"
   ]
  },
  {
   "cell_type": "code",
   "execution_count": 5,
   "metadata": {},
   "outputs": [],
   "source": [
    "def calculate_correlation(x, y):\n",
    "    data = {}\n",
    "    for i in range(x.shape[0]):\n",
    "        data[f\"x{i+1}\"] = x[i] \n",
    "    \n",
    "    data[\"y\"] = y\n",
    "    matrix = pd.DataFrame(data)\n",
    "    return matrix.corr()['y']"
   ]
  },
  {
   "cell_type": "code",
   "execution_count": 37,
   "metadata": {},
   "outputs": [],
   "source": [
    "# Function to generate a random tree\n",
    "def generate_random_tree(depth, x_dim, corr_vector, linearly_correlated_vars, used_linear_var=None, parent=None):\n",
    "\n",
    "    # Calculate the non-linear variables\n",
    "    non_linear_vars = [i for i in range(x_dim) if i not in linearly_correlated_vars]\n",
    "\n",
    "    # Initialize the set of already used linear variables\n",
    "    if used_linear_var is None:\n",
    "        used_linear_var = set()\n",
    "\n",
    "    # Base case: leaf\n",
    "    if depth == 0:\n",
    "        # If the parent is a binary function --> node is either a variable or a non-zero constant\n",
    "        if parent in binary_functions:\n",
    "\n",
    "            if non_linear_vars and random.random() > 0.4:\n",
    "                index_non_linear_var = random.choice(non_linear_vars)\n",
    "                return (\"x\", index_non_linear_var, None, None, parent)\n",
    "            \n",
    "            else: \n",
    "                const = constants_nozero()\n",
    "                return (\"const\", const, None, None, parent)\n",
    "               \n",
    "        # If the parent is a unary function --> node is either a variable or a constant \n",
    "        elif parent in unary_functions:\n",
    "            if parent == unary_functions[5] or parent == unary_functions[6]: #log and log10:\n",
    "\n",
    "                if non_linear_vars and random.random() > 0.4:\n",
    "                    index_non_linear_var = random.choice(non_linear_vars)\n",
    "                    return (\"x\", index_non_linear_var, None, None, parent)\n",
    "                \n",
    "                else:\n",
    "                    const = constants_positive()\n",
    "                    return (\"const\", const, None, None, parent)\n",
    "                \n",
    "            elif parent == unary_functions[7]: #sqrt:\n",
    "\n",
    "                if non_linear_vars and random.random() > 0.4:\n",
    "                    index_non_linear_var = random.choice(non_linear_vars)\n",
    "                    return (\"x\", index_non_linear_var, None, None, parent)\n",
    "                \n",
    "                else:\n",
    "                    const = constants_positive_nozero()\n",
    "                    return (\"const\", const, None, None, parent)\n",
    "                \n",
    "            elif parent == unary_functions[8] or parent == unary_functions[9]: #arcsin e arccos\n",
    "\n",
    "                if non_linear_vars and random.random() > 0.4:\n",
    "                    index_non_linear_var = random.choice(non_linear_vars)\n",
    "                    return (\"x\", index_non_linear_var, None, None, parent)\n",
    "                \n",
    "                else:\n",
    "                    const = constants_interval()\n",
    "                    return (\"const\", const, None, None, parent)\n",
    "            else:\n",
    "                \n",
    "                if non_linear_vars and random.random() > 0.4:\n",
    "                    index_non_linear_var = random.choice(non_linear_vars)\n",
    "                    return (\"x\", index_non_linear_var, None, None, parent)\n",
    "                \n",
    "                else:\n",
    "                    const = constants_interval()\n",
    "                    return (\"const\", const, None, None, parent)\n",
    "            \n",
    "        elif parent == \"x\":\n",
    "            return None\n",
    "        elif parent == \"const\":\n",
    "            return None\n",
    "\n",
    "    # Linear part\n",
    "    if linearly_correlated_vars and not used_linear_var.intersection(linearly_correlated_vars) and parent not in unary_functions:\n",
    "        linear_index = random.choice([v for v in linearly_correlated_vars if v not in used_linear_var])\n",
    "        used_linear_var.add(linear_index)\n",
    "        operator = binary_functions[0] if corr_vector[linear_index] >= 0 else binary_functions[1]\n",
    "        left = (\"x\", linear_index, None, None, operator)\n",
    "        right = generate_random_tree(depth - 1, x_dim, corr_vector, linearly_correlated_vars, used_linear_var, operator)\n",
    "        return (\"op\", operator, left, right, parent)\n",
    "\n",
    "\n",
    "# Binary node\n",
    "    if random.random() > 0.5:\n",
    "        operator = random.choice(binary_functions)\n",
    "\n",
    "        # For np.power, constrain the exponent to manageable values\n",
    "        if operator == binary_functions[4]: #power\n",
    "            # Generate base and exponent\n",
    "            base = generate_random_tree(depth - 1, x_dim, corr_vector, linearly_correlated_vars, used_linear_var, operator)\n",
    "            exponent = (\"const\", random.uniform(0.5, 3), None, None, operator)\n",
    "            return (\"op\", operator, base, exponent, parent)\n",
    "        \n",
    "        if operator == binary_functions[3]: #divide\n",
    "            numerator = generate_random_tree(depth - 1, x_dim, corr_vector, linearly_correlated_vars, used_linear_var, operator)\n",
    "            const = constants_nozero()\n",
    "            denominator = (\"const\", const, None, None, parent)\n",
    "            return (\"op\", operator, numerator, denominator, parent)\n",
    "\n",
    "        # # For other operators\n",
    "        left = generate_random_tree(depth - 1, x_dim, corr_vector, linearly_correlated_vars, used_linear_var, operator)\n",
    "        right = generate_random_tree(depth - 1, x_dim, corr_vector, linearly_correlated_vars, used_linear_var, operator)\n",
    "        return (\"op\", operator, left, right, parent)\n",
    "    \n",
    "    else:\n",
    "        # Unary node\n",
    "        operator = random.choice(unary_functions)\n",
    "        child = generate_random_tree(depth - 1, x_dim, corr_vector, linearly_correlated_vars, used_linear_var, operator)\n",
    "\n",
    "        return (\"op\", operator, child, None, parent)"
   ]
  },
  {
   "cell_type": "code",
   "execution_count": 7,
   "metadata": {},
   "outputs": [],
   "source": [
    "def evaluate(tree, x):\n",
    "    if tree[0] == \"x\":\n",
    "        return x[tree[1]]\n",
    "    elif tree[0] == \"const\":\n",
    "        return tree[1]\n",
    "    elif tree[0] == \"op\":\n",
    "        func = tree[1]\n",
    "        left = evaluate(tree[2], x) if tree[2] else None\n",
    "        right = evaluate(tree[3], x) if tree[3] else None\n",
    "        if left is not None and right is not None:\n",
    "            return func(left, right)\n",
    "        elif left is not None:\n",
    "            return func(left)\n",
    "        else:\n",
    "            raise ValueError(\"Operator without valid arguments\")\n",
    "    else:\n",
    "        raise ValueError(\"Invalid node\")\n",
    "\n",
    "def tree_to_string(tree):\n",
    "    if tree[0] == \"x\":\n",
    "        return f\"x[{tree[1]}]\"\n",
    "    elif tree[0] == \"const\":\n",
    "        return str(tree[1])\n",
    "    elif tree[0] == \"op\":\n",
    "        func_name = tree[1].__name__\n",
    "        left = tree_to_string(tree[2]) if tree[2] else \"\"\n",
    "        right = tree_to_string(tree[3]) if tree[3] else \"\"\n",
    "        if tree[3] is None:  # unary node\n",
    "            return f\"{func_name}({left})\"\n",
    "        return f\"({left} {func_name} {right})\"\n",
    "    else:\n",
    "        return \"Invalid node\""
   ]
  },
  {
   "cell_type": "code",
   "execution_count": 8,
   "metadata": {},
   "outputs": [],
   "source": [
    "def fitness(tree, data, target):\n",
    "    # MSE\n",
    "    predictions = np.array([evaluate(tree, data)])\n",
    "    return np.square(target-predictions).sum()/len(target)"
   ]
  },
  {
   "cell_type": "code",
   "execution_count": 9,
   "metadata": {},
   "outputs": [],
   "source": [
    "def select_random_subtree(tree, linearly_correlated_vars, is_root=True):\n",
    "    \"\"\"\n",
    "    Returns a random subtree from the given tree, avoiding selecting the entire tree\n",
    "    as a subtree when called from the root.\n",
    "\n",
    "    :param tree: The tree from which to extract the subtree\n",
    "    :param linearly_correlated_vars: variables that have a strong linear correlation with the output that should be excluded in certain selections\n",
    "    :param is_root: Flag to indicate if we are at the root of the tree\n",
    "    :return: A random subtree    \n",
    "    \n",
    "    Remaninder - Tree structure:\n",
    "    - tree[0]: Indicates the type of node (\"op\", \"x\", or \"const\").\n",
    "    - tree[1]: If the node is \"op\", this indicates the operator type (e.g., addition, multiplication).\n",
    "    - tree[2]: Left child of the node (can be None if the node has no left child).\n",
    "    - tree[3]: Right child of the node (can be None, especially for unary nodes).\n",
    "    \"\"\"\n",
    "    if tree is None:  # If the node is None, there are no subtrees to return\n",
    "        return None\n",
    "\n",
    "    # When we are at the root of the tree\n",
    "    if is_root:\n",
    "        # Binary node: try to descend to one of the children\n",
    "        if tree[0] == \"op\" and tree[1] in binary_functions:\n",
    "            # 50% chance to explore the left child\n",
    "            if random.random() < 0.5 and tree[2] is not None and tree[2][1] not in linearly_correlated_vars:\n",
    "                return select_random_subtree(tree[2], linearly_correlated_vars, is_root=False)  # Explore the left child\n",
    "            \n",
    "            # Otherwise, explore the right child if it exists\n",
    "            elif tree[3] is not None:\n",
    "                return select_random_subtree(tree[3], linearly_correlated_vars, is_root=False)  # Explore the right child\n",
    "\n",
    "        # Unary node: explore the only child if it exists\n",
    "        elif tree[0] == \"op\" and tree[1] in unary_functions and tree[2] is not None:\n",
    "            return select_random_subtree(tree[2], linearly_correlated_vars, is_root=False)\n",
    "\n",
    "        # If no valid children, return None to force another selection\n",
    "        return None\n",
    "\n",
    "    # When we are not at the root, there is a 30% chance to select the current node\n",
    "    if random.random() < 0.3:\n",
    "        return tree\n",
    "\n",
    "    # If we don't select the current node, explore its children\n",
    "    if tree[0] == \"op\" and tree[1] in binary_functions:\n",
    "        # 50% chance to explore the left child\n",
    "        if random.random() < 0.5 and tree[2] is not None and tree[2][1] not in linearly_correlated_vars:\n",
    "            return select_random_subtree(tree[2], linearly_correlated_vars, is_root=False)\n",
    "        \n",
    "        # Otherwise, explore the right child if it exists\n",
    "        elif tree[3] is not None:\n",
    "            return select_random_subtree(tree[3], linearly_correlated_vars, is_root=False)\n",
    "\n",
    "    # Unary node: explore the only child if it exists\n",
    "    elif tree[0] == \"op\" and tree[1] in unary_functions and tree[2] is not None:\n",
    "        return select_random_subtree(tree[2], linearly_correlated_vars, is_root=False)\n",
    "\n",
    "    # If none of the conditions are met, return the current node\n",
    "    return tree\n"
   ]
  },
  {
   "cell_type": "code",
   "execution_count": 10,
   "metadata": {},
   "outputs": [],
   "source": [
    "def crossover(tree1, tree2, linearly_correlated_vars):\n",
    "    \"\"\"\n",
    "    Perform a crossover operation between two trees, selecting random subtrees from each parent and swapping them.\n",
    "    \n",
    "    :param tree1 (tuple): The first parent tree from which a random subtree will be selected.\n",
    "    :param tree2 (tuple): The second parent tree from which a random subtree will be selected.\n",
    "    :param linearly_correlated_vars (list): A list of variables that have a strong linear correlation with the output, \n",
    "                                             used to guide the selection of subtrees.\n",
    "    :return: A new tree generated by swapping subtrees from tree1 and tree2.\n",
    "    \"\"\"\n",
    "    \n",
    "    # Select a random subtree from each parent tree\n",
    "    subtree1 = select_random_subtree(tree1, linearly_correlated_vars )\n",
    "    subtree2 = select_random_subtree(tree2, linearly_correlated_vars )\n",
    "\n",
    "    # If either subtree is None, it means we cannot perform the crossover\n",
    "    if subtree1 is None or subtree2 is None:\n",
    "        return tree1 if subtree1 is None else tree2  # Return one of the parents if no subtree was found\n",
    "\n",
    "    # Swap the subtree of tree1 with that of tree2 and vice versa\n",
    "    child1 = replace_subtree(tree1, subtree1, subtree2)\n",
    "    child2 = replace_subtree(tree2, subtree2, subtree1)\n",
    "\n",
    "    # Return the combined offspring (you can choose to return one of the modified parents)\n",
    "    return child1 if random.random() > 0.5 else child2\n",
    "\n",
    "\n",
    "\n",
    "def replace_subtree(tree, old_subtree, new_subtree):\n",
    "    \"\"\"\n",
    "    Recursive function that replaces a subtree with another subtree\n",
    "    \n",
    "    :param tree (tuple): represents the main tree in which the subtree to be replaced will be searched. \n",
    "    :param old_subtree (tuple): the subtree to be searched and replaced in the main tree. \n",
    "    It must have the same structure and node type as the one to be replaced.\n",
    "    :param new_subtree (tuple): the new subtree that will replace the occurrence of old_subtree \n",
    "    in the main tree.\n",
    "    return: new_tree\n",
    "    \n",
    "    \"\"\"\n",
    "    \n",
    "    # If the current tree is equal to the subtree we want to replace\n",
    "    if tree == old_subtree:\n",
    "        return new_subtree  # Return the new subtree (replacement)\n",
    "    \n",
    "    # If the current node is an operator node (\"op\"), explore the children\n",
    "    if tree[0] == \"op\":\n",
    "        # Check the children of the node, recursively replacing the subtree in the left and right children\n",
    "        left = replace_subtree(tree[2], old_subtree, new_subtree) if tree[2] else None  # Replace in the left child\n",
    "        right = replace_subtree(tree[3], old_subtree, new_subtree) if tree[3] else None  # Replace in the right child\n",
    "        \n",
    "        # Return the tree with modified children (if necessary)\n",
    "        return (tree[0], tree[1], left, right, tree[4])  # Return the \"op\" node with the modified children\n",
    "\n",
    "    return tree  # If the current node is not the one to replace, return it unchanged"
   ]
  },
  {
   "cell_type": "code",
   "execution_count": 11,
   "metadata": {},
   "outputs": [],
   "source": [
    "# Initial population\n",
    "def generate_population(size, depth, x_dim, corr_vector, linearly_correlated_vars):\n",
    "    return [generate_random_tree(depth, x_dim, corr_vector, linearly_correlated_vars) for _ in range(size)]\n",
    "\n",
    "# Evaluate the fitness of each individual in the population\n",
    "def evaluate_population_fitness(population, x, y):\n",
    "    fitness_scores = []\n",
    "    invalid_count = 0 \n",
    "    mse_na = 0\n",
    "    for tree in population:\n",
    "        try:\n",
    "            score = fitness(tree, x, y)\n",
    "            if math.isnan(score):\n",
    "                fitness_scores.append((float('inf'), tree)) \n",
    "                mse_na += 1 # Penalize invalid trees with mse NaN\n",
    "            else:\n",
    "                    fitness_scores.append((score, tree))\n",
    "        except Exception:\n",
    "            fitness_scores.append((float('inf'), tree))  # Penalize invalid trees\n",
    "            invalid_count += 1\n",
    "    return sorted(fitness_scores, key=lambda x: x[0])  # Sort by fitness ascending\n",
    "\n",
    "# elite selection\n",
    "def select_top_individuals(sorted_population, elite_size):\n",
    "    return [tree for _, tree in sorted_population[:elite_size]]\n",
    "\n",
    "# Funzione principale dell'algoritmo di GP\n",
    "def genetic_programming(x, y, x_dim, corr_vector, linearly_correlated_vars , POPULATION_SIZE, GENERATIONS, DEPTH):\n",
    "    \n",
    "    population = generate_population(POPULATION_SIZE, DEPTH, x_dim, corr_vector, linearly_correlated_vars)\n",
    "    \n",
    "    for generation in range(GENERATIONS):\n",
    "        # Evaluation\n",
    "        sorted_population = evaluate_population_fitness(population, x, y)\n",
    "        \n",
    "        # Selection\n",
    "        elite_size = max(1, POPULATION_SIZE // 5)\n",
    "        elite = select_top_individuals(sorted_population, elite_size)\n",
    "\n",
    "        # Population reconstruction with new random trees\n",
    "        new_population = elite[:]\n",
    "        while len(new_population) < POPULATION_SIZE:\n",
    "            parent1, parent2 = random.sample(elite, 2) if random.random() > 0.5 else elite[:2]\n",
    "            # apply the crossover\n",
    "            child = crossover(parent1, parent2, linearly_correlated_vars)\n",
    "            new_population.append(child)\n",
    "          \n",
    "        population = new_population\n",
    "        \n",
    "    #print(f\"Miglior albero: {tree_to_string(sorted_population[0][1])}\")\n",
    "    # Restituisce il miglior individuo finale\n",
    "    return sorted_population[0][1]\n"
   ]
  },
  {
   "cell_type": "code",
   "execution_count": 12,
   "metadata": {},
   "outputs": [],
   "source": [
    "def generate_function(x, y, DEPTH):\n",
    "    \n",
    "    warnings.filterwarnings(\"ignore\")\n",
    "    \n",
    "    POPULATION_SIZE = 2_000\n",
    "    GENERATIONS = 50\n",
    "    x_dim = x.ndim\n",
    "    corr_vector = calculate_correlation(x,y)\n",
    "\n",
    "    threshold = 0.95  ## Threshold for considering strong correlation\n",
    "    linearly_correlated_vars  = [i for i, corr in enumerate(corr_vector[:-1]) if abs(corr) >= threshold]\n",
    "\n",
    "    return genetic_programming(x, y, x_dim, corr_vector, linearly_correlated_vars , POPULATION_SIZE, GENERATIONS, DEPTH)"
   ]
  },
  {
   "cell_type": "code",
   "execution_count": 14,
   "metadata": {},
   "outputs": [],
   "source": [
    "def select_best_tree(num_experiments, DEPTH, x, y):\n",
    "    best_tree = None\n",
    "    best_fitness = float('inf')\n",
    "    \n",
    "    for _ in range(num_experiments):\n",
    "        # Generate random tree\n",
    "        tree = generate_function(x, y, DEPTH)\n",
    "        \n",
    "        # Calculate the fitness\n",
    "        mse = fitness(tree, x, y)\n",
    "        \n",
    "        # Update the best\n",
    "        if mse < best_fitness:\n",
    "            best_fitness = mse\n",
    "            best_tree = tree\n",
    "            \n",
    "    return best_tree, best_fitness"
   ]
  },
  {
   "cell_type": "markdown",
   "metadata": {},
   "source": [
    "## TEST"
   ]
  },
  {
   "cell_type": "markdown",
   "metadata": {},
   "source": [
    "## Problem 0"
   ]
  },
  {
   "cell_type": "code",
   "execution_count": 16,
   "metadata": {},
   "outputs": [
    {
     "name": "stdout",
     "output_type": "stream",
     "text": [
      "Miglior albero: (x[0] add sin(sin(sin(sin(sin(sin((x[1] divide 5.523348392778454))))))))\n",
      "Miglior albero: (x[0] add sin(sin(sin(sin(sin(sin(sin(sin(sin((x[1] divide 5.439059926717535)))))))))))\n",
      "Miglior albero: (x[0] add (sin(x[1]) divide 5.07429872773508))\n",
      "Miglior albero: (x[0] add (sin(x[1]) divide 5.279603984762815))\n",
      "Miglior albero finale:  ('op', <function add at 0x00000208DFF75EE0>, ('x', 0, None, None, <function add at 0x00000208DFF75EE0>), ('op', <function divide at 0x00000208E1301DC0>, ('op', <ufunc 'sin'>, ('x', 1, None, None, <ufunc 'sin'>), None, <function add at 0x00000208DFF75EE0>), ('const', 5.07429872773508, None, None, <function divide at 0x00000208E1301DC0>), <function add at 0x00000208DFF75EE0>), None)     2.2887881131780577e-06\n"
     ]
    }
   ],
   "source": [
    "problem = np.load('problem_0.npz')\n",
    "x = problem['x']\n",
    "y = problem['y']\n",
    "\n",
    "num_experiments = 4\n",
    "DEPTH = 2\n",
    "best_tree, best_fitness = select_best_tree(num_experiments, DEPTH, x, y)\n",
    "print('Miglior albero finale: ', best_tree, '   ', best_fitness)"
   ]
  },
  {
   "cell_type": "code",
   "execution_count": 17,
   "metadata": {},
   "outputs": [
    {
     "name": "stdout",
     "output_type": "stream",
     "text": [
      "(x[0] add (sin(x[1]) divide 5.07429872773508))\n",
      "MSE (train): 0.000228879\n"
     ]
    }
   ],
   "source": [
    "print(tree_to_string(best_tree))\n",
    "print(f\"MSE (train): {100*np.square(y-evaluate(best_tree,x)).sum()/len(y):g}\")"
   ]
  },
  {
   "cell_type": "code",
   "execution_count": 20,
   "metadata": {},
   "outputs": [
    {
     "name": "stdout",
     "output_type": "stream",
     "text": [
      "MSE (train): 0.000228879\n"
     ]
    }
   ],
   "source": [
    "def f_problem_0(x):\n",
    "    return np.add(x[0], np.divide(np.sin(x[1]), 5.07429872773508))\n",
    "\n",
    "print(f\"MSE (train): {100*np.square(y-f_problem_0(x)).sum()/len(y):g}\")"
   ]
  },
  {
   "cell_type": "markdown",
   "metadata": {},
   "source": [
    "## Problem 1"
   ]
  },
  {
   "cell_type": "code",
   "execution_count": 21,
   "metadata": {},
   "outputs": [
    {
     "name": "stdout",
     "output_type": "stream",
     "text": [
      "Miglior albero: (x[0] add (3.2048373254236022 power (-4.289515392996326 subtract 1.9191224129558744)))\n",
      "Miglior albero: (x[0] add square((-0.06936638636469183 divide 2.4664072463578783)))\n",
      "Miglior albero: (x[0] add ((9.123482043626172 subtract 9.06489629010407) power 2.632163151688034))\n",
      "Miglior albero: (x[0] add (((5.749671429445183 add -5.67397010796906) divide 3.7789748952531337) power 1.7788581495214206))\n",
      "Miglior albero: (x[0] add exp(-7.353284879164015))\n",
      "Miglior albero finale:  ('op', <function add at 0x00000208DFF75EE0>, ('x', 0, None, None, <function add at 0x00000208DFF75EE0>), ('op', <ufunc 'square'>, ('op', <function divide at 0x00000208E1301DC0>, ('const', -0.06936638636469183, None, None, <function divide at 0x00000208E1301DC0>), ('const', 2.4664072463578783, None, None, <function power at 0x00000208E1301E50>), <function add at 0x00000208DFF75EE0>), None, <function add at 0x00000208DFF75EE0>), None)     0.003280862643283991\n"
     ]
    }
   ],
   "source": [
    "problem = np.load('problem_1.npz')\n",
    "x = problem['x']\n",
    "y = problem['y']\n",
    "\n",
    "num_experiments = 5\n",
    "DEPTH = 2\n",
    "best_tree, best_fitness = select_best_tree(num_experiments, DEPTH, x, y)\n",
    "print('Miglior albero finale: ', best_tree, '   ', best_fitness)"
   ]
  },
  {
   "cell_type": "code",
   "execution_count": 56,
   "metadata": {},
   "outputs": [
    {
     "name": "stdout",
     "output_type": "stream",
     "text": [
      "(x[0] add ((0.10854911946931267 divide 3.7265487206860755) multiply (0.10854911946931267 divide 3.7265487206860755)))\n",
      "MSE (train): 0.328086\n"
     ]
    }
   ],
   "source": [
    "print(tree_to_string(best_tree))\n",
    "print(f\"MSE (train): {100*np.square(y-evaluate(best_tree,x)).sum()/len(y):g}\")"
   ]
  },
  {
   "cell_type": "code",
   "execution_count": 22,
   "metadata": {},
   "outputs": [
    {
     "name": "stdout",
     "output_type": "stream",
     "text": [
      "MSE (train): 0.328086\n"
     ]
    }
   ],
   "source": [
    "def f_problem_1(x):\n",
    "    return np.add(x[0], np.multiply(np.divide(0.10854911946931267, 3.7265487206860755),\n",
    "                                  np.divide(0.10854911946931267, 3.7265487206860755)))\n",
    "\n",
    "print(f\"MSE (train): {100*np.square(y-f_problem_1(x)).sum()/len(y):g}\")"
   ]
  },
  {
   "cell_type": "markdown",
   "metadata": {},
   "source": [
    "## Problem 2"
   ]
  },
  {
   "cell_type": "code",
   "execution_count": 23,
   "metadata": {},
   "outputs": [
    {
     "name": "stdout",
     "output_type": "stream",
     "text": [
      "Miglior albero: (exp(x[0]) power 2.9989266179928737)\n",
      "Miglior albero: exp((x[0] add 9.70435665670923))\n",
      "Miglior albero: square(((x[0] add 9.787716499141705) power 2.8008242718725995))\n",
      "Miglior albero: (8.81525747355741 multiply exp((x[0] add 8.81525747355741)))\n",
      "Miglior albero: (exp((x[0] subtract -9.237079355907301)) multiply x[0])\n",
      "Miglior albero finale:  ('op', <ufunc 'square'>, ('op', <function power at 0x00000208E1301E50>, ('op', <function add at 0x00000208DFF75EE0>, ('x', 0, None, None, <ufunc 'exp'>), ('const', 9.787716499141705, None, None, <function add at 0x00000208DFF75EE0>), <ufunc 'exp'>), ('const', 2.8008242718725995, None, None, <function power at 0x00000208E1301E50>), <ufunc 'square'>), None, None)     25693231654223.438\n"
     ]
    }
   ],
   "source": [
    "problem = np.load('problem_2.npz')\n",
    "x = problem['x']\n",
    "y = problem['y']\n",
    "\n",
    "num_experiments = 5\n",
    "DEPTH = 2\n",
    "best_tree, best_fitness = select_best_tree(num_experiments, DEPTH, x, y)\n",
    "print('Miglior albero finale: ', best_tree, '   ', best_fitness)"
   ]
  },
  {
   "cell_type": "code",
   "execution_count": 24,
   "metadata": {},
   "outputs": [
    {
     "name": "stdout",
     "output_type": "stream",
     "text": [
      "square(((x[0] add 9.787716499141705) power 2.8008242718725995))\n",
      "MSE (train): 2.56932e+15\n"
     ]
    }
   ],
   "source": [
    "print(tree_to_string(best_tree))\n",
    "print(f\"MSE (train): {100*np.square(y-evaluate(best_tree,x)).sum()/len(y):g}\")"
   ]
  },
  {
   "cell_type": "code",
   "execution_count": 26,
   "metadata": {},
   "outputs": [
    {
     "name": "stdout",
     "output_type": "stream",
     "text": [
      "Miglior albero: (((9.503037074443881 subtract -7.944359702123512) multiply ((9.503037074443881 subtract -7.944359702123512) multiply ((9.503037074443881 subtract -7.944359702123512) multiply exp(x[0])))) add square(((9.503037074443881 subtract -7.944359702123512) multiply exp(x[0]))))\n",
      "Miglior albero: (square((8.09037463120157 multiply 8.09037463120157)) multiply ((8.09037463120157 subtract -8.594501415099812) multiply ((8.09037463120157 subtract -8.594501415099812) multiply x[0])))\n",
      "Miglior albero: (((x[0] add 8.41029184409922) power 2.171525067136721) power 2.743365526145127)\n",
      "Miglior albero: ((exp(x[0]) multiply (9.499449293900184 power 1.78177746724181)) power 1.78177746724181)\n",
      "Miglior albero finale:  ('op', <function multiply at 0x00000208E1301D30>, ('op', <ufunc 'square'>, ('op', <function multiply at 0x00000208E1301D30>, ('const', 8.09037463120157, None, None, <function add at 0x00000208DFF75EE0>), ('const', 8.09037463120157, None, None, <function add at 0x00000208DFF75EE0>), <ufunc 'square'>), None, <function multiply at 0x00000208E1301D30>), ('op', <function multiply at 0x00000208E1301D30>, ('op', <function subtract at 0x00000208DFF8A3A0>, ('const', 8.09037463120157, None, None, <function add at 0x00000208DFF75EE0>), ('const', -8.594501415099812, None, None, <function subtract at 0x00000208DFF8A3A0>), <function multiply at 0x00000208E1301D30>), ('op', <function multiply at 0x00000208E1301D30>, ('op', <function subtract at 0x00000208DFF8A3A0>, ('const', 8.09037463120157, None, None, <function add at 0x00000208DFF75EE0>), ('const', -8.594501415099812, None, None, <function subtract at 0x00000208DFF8A3A0>), <function multiply at 0x00000208E1301D30>), ('x', 0, None, None, <function subtract at 0x00000208DFF8A3A0>), <function multiply at 0x00000208E1301D30>), <function multiply at 0x00000208E1301D30>), None)     19053640847477.246\n"
     ]
    }
   ],
   "source": [
    "problem = np.load('problem_2.npz')\n",
    "x = problem['x']\n",
    "y = problem['y']\n",
    "\n",
    "num_experiments = 4\n",
    "DEPTH = 3\n",
    "best_tree, best_fitness = select_best_tree(num_experiments, DEPTH, x, y)\n",
    "print('Miglior albero finale: ', best_tree, '   ', best_fitness)"
   ]
  },
  {
   "cell_type": "code",
   "execution_count": 27,
   "metadata": {},
   "outputs": [
    {
     "name": "stdout",
     "output_type": "stream",
     "text": [
      "(square((8.09037463120157 multiply 8.09037463120157)) multiply ((8.09037463120157 subtract -8.594501415099812) multiply ((8.09037463120157 subtract -8.594501415099812) multiply x[0])))\n",
      "MSE (train): 1.90536e+15\n"
     ]
    }
   ],
   "source": [
    "print(tree_to_string(best_tree))\n",
    "print(f\"MSE (train): {100*np.square(y-evaluate(best_tree,x)).sum()/len(y):g}\")"
   ]
  },
  {
   "cell_type": "code",
   "execution_count": 37,
   "metadata": {},
   "outputs": [
    {
     "name": "stdout",
     "output_type": "stream",
     "text": [
      "MSE (train): 1.90536e+15\n"
     ]
    }
   ],
   "source": [
    "def f_problem_2(x):\n",
    "    return np.multiply(\n",
    "    np.square(np.multiply(8.09037463120157, 8.09037463120157)),\n",
    "    np.multiply(\n",
    "        np.subtract(8.09037463120157, -8.594501415099812),\n",
    "        np.multiply(\n",
    "            np.subtract(8.09037463120157, -8.594501415099812),\n",
    "            x[0]\n",
    "        )\n",
    "    )\n",
    ")\n",
    "\n",
    "print(f\"MSE (train): {100*np.square(y-f_problem_2(x)).sum()/len(y):g}\")"
   ]
  },
  {
   "cell_type": "markdown",
   "metadata": {},
   "source": [
    "## Problema 3"
   ]
  },
  {
   "cell_type": "code",
   "execution_count": 38,
   "metadata": {},
   "outputs": [
    {
     "name": "stdout",
     "output_type": "stream",
     "text": [
      "Miglior albero: ((x[1] multiply -8.890642119385188) add (-4.249875913580546 multiply (-4.249875913580546 add x[1])))\n",
      "Miglior albero: (((((x[1] multiply -6.876894251787691) subtract -6.876894251787691) subtract -6.876894251787691) subtract -6.876894251787691) add (-6.876894251787691 multiply x[1]))\n",
      "Miglior albero: ((((((((-9.999675389282633 multiply x[1]) subtract -9.999675389282633) subtract x[1]) subtract x[1]) subtract x[1]) subtract x[1]) subtract x[1]) subtract -9.999675389282633)\n",
      "Miglior albero: ((-9.986229791122907 multiply x[1]) subtract ((x[1] add (x[1] add -6.823779785678996)) add ((x[1] add (x[1] add -6.823779785678996)) add (x[1] add -6.823779785678996))))\n",
      "Miglior albero: ((1.145270977369592 subtract x[1]) multiply (x[1] multiply x[1]))\n",
      "Miglior albero finale:  ('op', <function multiply at 0x00000208E1301D30>, ('op', <function subtract at 0x00000208DFF8A3A0>, ('const', 1.145270977369592, None, None, <function power at 0x00000208E1301E50>), ('x', 1, None, None, <function subtract at 0x00000208DFF8A3A0>), <function multiply at 0x00000208E1301D30>), ('op', <function multiply at 0x00000208E1301D30>, ('x', 1, None, None, <function subtract at 0x00000208DFF8A3A0>), ('x', 1, None, None, <function subtract at 0x00000208DFF8A3A0>), <function multiply at 0x00000208E1301D30>), None)     506.1137845255615\n"
     ]
    }
   ],
   "source": [
    "problem = np.load('problem_3.npz')\n",
    "x = problem['x']\n",
    "y = problem['y']\n",
    "\n",
    "num_experiments = 5\n",
    "DEPTH = 2\n",
    "best_tree, best_fitness = select_best_tree(num_experiments, DEPTH, x, y)\n",
    "print('Miglior albero finale: ', best_tree, '   ', best_fitness)"
   ]
  },
  {
   "cell_type": "code",
   "execution_count": 39,
   "metadata": {},
   "outputs": [
    {
     "name": "stdout",
     "output_type": "stream",
     "text": [
      "((1.145270977369592 subtract x[1]) multiply (x[1] multiply x[1]))\n",
      "MSE (train): 50611.4\n"
     ]
    }
   ],
   "source": [
    "print(tree_to_string(best_tree))\n",
    "print(f\"MSE (train): {100*np.square(y-evaluate(best_tree,x)).sum()/len(y):g}\")"
   ]
  },
  {
   "cell_type": "markdown",
   "metadata": {},
   "source": [
    "### prova 2"
   ]
  },
  {
   "cell_type": "code",
   "execution_count": 40,
   "metadata": {},
   "outputs": [
    {
     "name": "stdout",
     "output_type": "stream",
     "text": [
      "Miglior albero: ((x[0] multiply x[0]) subtract (x[1] multiply (x[1] multiply (x[1] subtract 0.661028631104097))))\n",
      "Miglior albero: (square((0.15028421051650653 subtract x[1])) multiply (((x[1] add -3.10335659101427) divide (x[1] add -3.10335659101427)) subtract x[1]))\n",
      "Miglior albero: (9.855757791912954 subtract (9.855757791912954 multiply x[1]))\n",
      "Miglior albero: (square((-5.538820314730466 add x[1])) subtract 4.634860071397707)\n",
      "Miglior albero: ((x[1] multiply -9.56226970849389) add ((((((x[1] multiply -2.626733114394291) subtract -9.56226970849389) subtract x[1]) subtract x[1]) subtract x[1]) subtract -9.56226970849389))\n",
      "Miglior albero: (((2.684249119983356 subtract x[1]) subtract x[1]) multiply 6.794030738775003)\n",
      "Miglior albero: (9.051781066926 subtract (x[1] multiply (x[1] multiply x[1])))\n",
      "Miglior albero: ((x[1] multiply -9.615601651101057) subtract (5.790067507430589 multiply (x[1] subtract 3.8269761857243605)))\n",
      "Miglior albero: ((3.394325375896706 multiply 3.394325375896706) subtract (x[1] multiply square(x[1])))\n",
      "Miglior albero: square((-4.583505795870961 add x[1]))\n",
      "Miglior albero finale:  ('op', <function subtract at 0x00000208DFF8A3A0>, ('op', <function multiply at 0x00000208E1301D30>, ('x', 0, None, None, <function multiply at 0x00000208E1301D30>), ('x', 0, None, None, <function multiply at 0x00000208E1301D30>), <function subtract at 0x00000208DFF8A3A0>), ('op', <function multiply at 0x00000208E1301D30>, ('x', 1, None, None, <function multiply at 0x00000208E1301D30>), ('op', <function multiply at 0x00000208E1301D30>, ('x', 1, None, None, <function multiply at 0x00000208E1301D30>), ('op', <function subtract at 0x00000208DFF8A3A0>, ('x', 1, None, None, <function subtract at 0x00000208DFF8A3A0>), ('const', 0.661028631104097, None, None, <function power at 0x00000208E1301E50>), <ufunc 'square'>), <function subtract at 0x00000208DFF8A3A0>), <function subtract at 0x00000208DFF8A3A0>), None)     221.3195975837122\n"
     ]
    }
   ],
   "source": [
    "problem = np.load('problem_3.npz')\n",
    "x = problem['x']\n",
    "y = problem['y']\n",
    "\n",
    "num_experiments = 10\n",
    "DEPTH = 2\n",
    "best_tree, best_fitness = select_best_tree(num_experiments, DEPTH, x, y)\n",
    "print('Miglior albero finale: ', best_tree, '   ', best_fitness)"
   ]
  },
  {
   "cell_type": "code",
   "execution_count": 41,
   "metadata": {},
   "outputs": [
    {
     "name": "stdout",
     "output_type": "stream",
     "text": [
      "((x[0] multiply x[0]) subtract (x[1] multiply (x[1] multiply (x[1] subtract 0.661028631104097))))\n",
      "MSE (train): 22132\n"
     ]
    }
   ],
   "source": [
    "print(tree_to_string(best_tree))\n",
    "print(f\"MSE (train): {100*np.square(y-evaluate(best_tree,x)).sum()/len(y):g}\")"
   ]
  },
  {
   "cell_type": "markdown",
   "metadata": {},
   "source": [
    "### prova 3"
   ]
  },
  {
   "cell_type": "code",
   "execution_count": 42,
   "metadata": {},
   "outputs": [
    {
     "name": "stdout",
     "output_type": "stream",
     "text": [
      "Miglior albero: ((x[1] multiply -9.005220623715367) add square(x[0]))\n",
      "Miglior albero: (square((3.5680737511272618 subtract x[1])) add (x[1] multiply -5.58431602437051))\n",
      "Miglior albero: (absolute(1.8544315513756282) multiply ((x[1] subtract 1.8544315513756282) multiply -7.657877888827049))\n",
      "Miglior albero: (square(x[0]) add (x[1] multiply -9.17148711216081))\n",
      "Miglior albero: (square(x[0]) add (square(x[0]) subtract (x[1] multiply square(x[1]))))\n",
      "Miglior albero: ((x[1] multiply x[1]) subtract ((-6.586782539647789 subtract (-6.586782539647789 multiply x[1])) subtract (-6.586782539647789 multiply x[1])))\n",
      "Miglior albero: ((-9.541225532177817 multiply x[1]) add (((-3.147400615542237 add (x[1] subtract 2.8302915212444866)) multiply x[1]) subtract -9.541225532177817))\n",
      "Miglior albero: (square(x[1]) multiply ((x[1] add x[1]) multiply -0.3724232366290554))\n",
      "Miglior albero: (square(x[0]) add (((-9.746079233741137 multiply 1.7576928697068632) multiply x[1]) subtract (-9.746079233741137 multiply 1.7576928697068632)))\n",
      "Miglior albero: (((x[1] subtract 2.9033600299137454) multiply (x[1] subtract 2.9033600299137454)) subtract (0.2590449660350025 subtract (-9.810397842509204 multiply x[1])))\n",
      "Miglior albero: ((((-9.605940643627893 subtract -9.605940643627893) subtract -9.605940643627893) subtract -9.605940643627893) subtract (x[1] multiply square(x[1])))\n",
      "Miglior albero: ((x[1] multiply -9.356764938160591) add absolute((-9.356764938160591 multiply x[0])))\n",
      "Miglior albero: ((x[1] add x[1]) multiply ((-9.893053400971478 subtract (3.247476614559261 multiply -0.8359165862286879)) subtract (x[1] multiply -0.8359165862286879)))\n",
      "Miglior albero: ((square(x[0]) power 1.289375562022789) add (-9.992623702406911 multiply x[1]))\n",
      "Miglior albero: ((-6.474706165577531 subtract 8.83153029938342) multiply (-1.0684242647164854 add x[1]))\n",
      "Miglior albero: ((x[1] add -7.349633637451046) multiply (x[1] add x[1]))\n",
      "Miglior albero: ((x[1] multiply -8.092120053616647) add (x[1] add (square(x[0]) add (square(x[0]) add (-8.092120053616647 multiply x[1])))))\n",
      "Miglior albero: (((-4.833036068749115 add x[1]) multiply (-4.833036068749115 add x[1])) subtract exp(x[1]))\n",
      "Miglior albero: ((-6.423923524261534 multiply (x[1] subtract 3.5771269572165316)) add (-8.547069564868863 multiply x[1]))\n",
      "Miglior albero: (((((((((-0.17268230740079815 add -5.225506084552269) subtract x[1]) add -5.225506084552269) subtract x[1]) subtract x[1]) subtract x[1]) add -5.225506084552269) subtract x[1]) add square((x[1] add -5.225506084552269)))\n",
      "Miglior albero finale:  ('op', <function add at 0x00000208DFF75EE0>, ('op', <ufunc 'square'>, ('x', 0, None, None, <ufunc 'absolute'>), None, <function add at 0x00000208DFF75EE0>), ('op', <function subtract at 0x00000208DFF8A3A0>, ('op', <ufunc 'square'>, ('x', 0, None, None, <ufunc 'absolute'>), None, <function add at 0x00000208DFF75EE0>), ('op', <function multiply at 0x00000208E1301D30>, ('x', 1, None, None, <function multiply at 0x00000208E1301D30>), ('op', <ufunc 'square'>, ('x', 1, None, None, <function multiply at 0x00000208E1301D30>), None, <function subtract at 0x00000208DFF8A3A0>), <function subtract at 0x00000208DFF8A3A0>), <function add at 0x00000208DFF75EE0>), None)     116.68890207124839\n"
     ]
    }
   ],
   "source": [
    "problem = np.load('problem_3.npz')\n",
    "x = problem['x']\n",
    "y = problem['y']\n",
    "\n",
    "num_experiments = 20\n",
    "DEPTH = 2\n",
    "best_tree, best_fitness = select_best_tree(num_experiments, DEPTH, x, y)\n",
    "print('Miglior albero finale: ', best_tree, '   ', best_fitness)"
   ]
  },
  {
   "cell_type": "code",
   "execution_count": 43,
   "metadata": {},
   "outputs": [
    {
     "name": "stdout",
     "output_type": "stream",
     "text": [
      "(square(x[0]) add (square(x[0]) subtract (x[1] multiply square(x[1]))))\n",
      "MSE (train): 11668.9\n"
     ]
    }
   ],
   "source": [
    "print(tree_to_string(best_tree))\n",
    "print(f\"MSE (train): {100*np.square(y-evaluate(best_tree,x)).sum()/len(y):g}\")"
   ]
  },
  {
   "cell_type": "markdown",
   "metadata": {},
   "source": [
    "### prova 4"
   ]
  },
  {
   "cell_type": "code",
   "execution_count": 46,
   "metadata": {},
   "outputs": [
    {
     "name": "stdout",
     "output_type": "stream",
     "text": [
      "Miglior albero finale:  ('op', <function subtract at 0x00000208DFF8A3A0>, ('op', <function add at 0x00000208DFF75EE0>, ('op', <function multiply at 0x00000208E1301D30>, ('x', 0, None, None, <function multiply at 0x00000208E1301D30>), ('x', 0, None, None, <function multiply at 0x00000208E1301D30>), <function add at 0x00000208DFF75EE0>), ('op', <function add at 0x00000208DFF75EE0>, ('op', <function multiply at 0x00000208E1301D30>, ('x', 0, None, None, <function multiply at 0x00000208E1301D30>), ('x', 0, None, None, <function multiply at 0x00000208E1301D30>), <function add at 0x00000208DFF75EE0>), ('const', 5.884993886295414, None, None, <function add at 0x00000208DFF75EE0>), <function subtract at 0x00000208DFF8A3A0>), <function subtract at 0x00000208DFF8A3A0>), ('op', <function multiply at 0x00000208E1301D30>, ('x', 1, None, None, <function multiply at 0x00000208E1301D30>), ('op', <function multiply at 0x00000208E1301D30>, ('x', 1, None, None, <function multiply at 0x00000208E1301D30>), ('x', 1, None, None, <function multiply at 0x00000208E1301D30>), <function add at 0x00000208DFF75EE0>), <function subtract at 0x00000208DFF8A3A0>), None)     102.91026590790618\n"
     ]
    }
   ],
   "source": [
    "problem = np.load('problem_3.npz')\n",
    "x = problem['x']\n",
    "y = problem['y']\n",
    "\n",
    "num_experiments = 20\n",
    "DEPTH = 2\n",
    "best_tree, best_fitness = select_best_tree(num_experiments, DEPTH, x, y)\n",
    "print('Miglior albero finale: ', best_tree, '   ', best_fitness)"
   ]
  },
  {
   "cell_type": "code",
   "execution_count": 47,
   "metadata": {},
   "outputs": [
    {
     "name": "stdout",
     "output_type": "stream",
     "text": [
      "(((x[0] multiply x[0]) add ((x[0] multiply x[0]) add 5.884993886295414)) subtract (x[1] multiply (x[1] multiply x[1])))\n",
      "MSE (train): 10291\n"
     ]
    }
   ],
   "source": [
    "print(tree_to_string(best_tree))\n",
    "print(f\"MSE (train): {100*np.square(y-evaluate(best_tree,x)).sum()/len(y):g}\")"
   ]
  },
  {
   "cell_type": "code",
   "execution_count": 58,
   "metadata": {},
   "outputs": [
    {
     "name": "stdout",
     "output_type": "stream",
     "text": [
      "MSE (train): 10291\n"
     ]
    }
   ],
   "source": [
    "def f_problem_3(x):\n",
    "    return np.subtract(\n",
    "    np.add(\n",
    "        np.multiply(x[0], x[0]),\n",
    "        np.add(np.multiply(x[0], x[0]), 5.884993886295414)\n",
    "    ),\n",
    "    np.multiply(x[1], np.multiply(x[1], x[1]))\n",
    ")\n",
    "\n",
    "print(f\"MSE (train): {100*np.square(y-f_problem_3(x)).sum()/len(y):g}\")"
   ]
  },
  {
   "cell_type": "markdown",
   "metadata": {},
   "source": [
    "## Problema 4"
   ]
  },
  {
   "cell_type": "code",
   "execution_count": 60,
   "metadata": {},
   "outputs": [
    {
     "name": "stdout",
     "output_type": "stream",
     "text": [
      "Miglior albero: ((((4.124920724109721 add cos(x[1])) add cos(x[1])) add (((4.124920724109721 add cos(x[1])) add cos(x[1])) add cos(x[1]))) multiply cos(x[1]))\n",
      "Miglior albero: exp(cos(x[1]))\n",
      "Miglior albero: exp(cos(x[1]))\n",
      "Miglior albero: (((2.8090181841947235 add (cos(x[1]) add 2.023027231836082)) add (2.8090181841947235 add (cos(x[1]) add 2.023027231836082))) multiply cos((2.8090181841947235 add (cos((2.8090181841947235 add (cos((2.8090181841947235 add (cos(x[1]) add 2.023027231836082))) add 2.023027231836082))) add 2.023027231836082))))\n",
      "Miglior albero: (((cos(x[1]) subtract -5.028761511486659) subtract -5.028761511486659) multiply cos((cos(x[1]) subtract -5.028761511486659)))\n",
      "Miglior albero finale:  ('op', <function multiply at 0x00000218AB8540D0>, ('op', <function add at 0x00000218AB83DF70>, ('op', <function add at 0x00000218AB83DF70>, ('const', 2.8090181841947235, None, None, <function add at 0x00000218AB83DF70>), ('op', <function add at 0x00000218AB83DF70>, ('op', <ufunc 'cos'>, ('x', 1, None, None, <ufunc 'cos'>), None, <function add at 0x00000218AB83DF70>), ('const', 2.023027231836082, None, None, <function add at 0x00000218AB83DF70>), <function multiply at 0x00000218AB8540D0>), <function multiply at 0x00000218AB8540D0>), ('op', <function add at 0x00000218AB83DF70>, ('const', 2.8090181841947235, None, None, <function add at 0x00000218AB83DF70>), ('op', <function add at 0x00000218AB83DF70>, ('op', <ufunc 'cos'>, ('x', 1, None, None, <ufunc 'cos'>), None, <function add at 0x00000218AB83DF70>), ('const', 2.023027231836082, None, None, <function add at 0x00000218AB83DF70>), <function multiply at 0x00000218AB8540D0>), <function multiply at 0x00000218AB8540D0>), <function multiply at 0x00000218AB8540D0>), ('op', <ufunc 'cos'>, ('op', <function add at 0x00000218AB83DF70>, ('const', 2.8090181841947235, None, None, <function add at 0x00000218AB83DF70>), ('op', <function add at 0x00000218AB83DF70>, ('op', <ufunc 'cos'>, ('op', <function add at 0x00000218AB83DF70>, ('const', 2.8090181841947235, None, None, <function add at 0x00000218AB83DF70>), ('op', <function add at 0x00000218AB83DF70>, ('op', <ufunc 'cos'>, ('op', <function add at 0x00000218AB83DF70>, ('const', 2.8090181841947235, None, None, <function add at 0x00000218AB83DF70>), ('op', <function add at 0x00000218AB83DF70>, ('op', <ufunc 'cos'>, ('x', 1, None, None, <ufunc 'cos'>), None, <function add at 0x00000218AB83DF70>), ('const', 2.023027231836082, None, None, <function add at 0x00000218AB83DF70>), <function multiply at 0x00000218AB8540D0>), <function multiply at 0x00000218AB8540D0>), None, <function multiply at 0x00000218AB8540D0>), ('const', 2.023027231836082, None, None, <function add at 0x00000218AB83DF70>), <function multiply at 0x00000218AB8540D0>), <function multiply at 0x00000218AB8540D0>), None, <function multiply at 0x00000218AB8540D0>), ('const', 2.023027231836082, None, None, <function add at 0x00000218AB83DF70>), <function multiply at 0x00000218AB8540D0>), <function multiply at 0x00000218AB8540D0>), None, <function multiply at 0x00000218AB8540D0>), None)     0.33443859715922974\n"
     ]
    }
   ],
   "source": [
    "problem = np.load('problem_4.npz')\n",
    "x = problem['x']\n",
    "y = problem['y']\n",
    "\n",
    "num_experiments = 5\n",
    "DEPTH = 2\n",
    "best_tree, best_fitness = select_best_tree(num_experiments, DEPTH, x, y)\n",
    "print('Miglior albero finale: ', best_tree, '   ', best_fitness)"
   ]
  },
  {
   "cell_type": "code",
   "execution_count": 61,
   "metadata": {},
   "outputs": [
    {
     "name": "stdout",
     "output_type": "stream",
     "text": [
      "(((2.8090181841947235 add (cos(x[1]) add 2.023027231836082)) add (2.8090181841947235 add (cos(x[1]) add 2.023027231836082))) multiply cos((2.8090181841947235 add (cos((2.8090181841947235 add (cos((2.8090181841947235 add (cos(x[1]) add 2.023027231836082))) add 2.023027231836082))) add 2.023027231836082))))\n",
      "MSE (train): 33.4439\n"
     ]
    }
   ],
   "source": [
    "print(tree_to_string(best_tree))\n",
    "print(f\"MSE (train): {100*np.square(y-evaluate(best_tree,x)).sum()/len(y):g}\")"
   ]
  },
  {
   "cell_type": "markdown",
   "metadata": {},
   "source": [
    "### prova 2"
   ]
  },
  {
   "cell_type": "code",
   "execution_count": 59,
   "metadata": {},
   "outputs": [
    {
     "name": "stdout",
     "output_type": "stream",
     "text": [
      "Miglior albero finale:  ('op', <function subtract at 0x00000208DFF8A3A0>, ('op', <function add at 0x00000208DFF75EE0>, ('op', <function add at 0x00000208DFF75EE0>, ('op', <function add at 0x00000208DFF75EE0>, ('op', <function add at 0x00000208DFF75EE0>, ('op', <function add at 0x00000208DFF75EE0>, ('op', <function add at 0x00000208DFF75EE0>, ('op', <function add at 0x00000208DFF75EE0>, ('const', 4.32315452587539, None, None, <function add at 0x00000208DFF75EE0>), ('op', <ufunc 'cos'>, ('x', 1, None, None, <ufunc 'cos'>), None, <ufunc 'exp'>), <function subtract at 0x00000208DFF8A3A0>), ('op', <ufunc 'cos'>, ('x', 1, None, None, <ufunc 'cos'>), None, <ufunc 'exp'>), <function subtract at 0x00000208DFF8A3A0>), ('op', <ufunc 'cos'>, ('x', 1, None, None, <ufunc 'cos'>), None, <ufunc 'exp'>), <function subtract at 0x00000208DFF8A3A0>), ('op', <ufunc 'cos'>, ('x', 1, None, None, <ufunc 'cos'>), None, <ufunc 'exp'>), <function subtract at 0x00000208DFF8A3A0>), ('op', <ufunc 'cos'>, ('x', 1, None, None, <ufunc 'cos'>), None, <ufunc 'exp'>), <function subtract at 0x00000208DFF8A3A0>), ('op', <ufunc 'cos'>, ('x', 1, None, None, <ufunc 'cos'>), None, <ufunc 'exp'>), <function subtract at 0x00000208DFF8A3A0>), ('op', <ufunc 'cos'>, ('x', 1, None, None, <ufunc 'cos'>), None, <ufunc 'exp'>), <function subtract at 0x00000208DFF8A3A0>), ('op', <ufunc 'absolute'>, ('op', <ufunc 'cos'>, ('x', 1, None, None, <ufunc 'cos'>), None, <ufunc 'exp'>), None, <function subtract at 0x00000208DFF8A3A0>), None)     0.3647389259568911\n"
     ]
    }
   ],
   "source": [
    "problem = np.load('problem_4.npz')\n",
    "x = problem['x']\n",
    "y = problem['y']\n",
    "\n",
    "num_experiments = 5\n",
    "DEPTH = 2\n",
    "best_tree, best_fitness = select_best_tree(num_experiments, DEPTH, x, y)\n",
    "print('Miglior albero finale: ', best_tree, '   ', best_fitness)"
   ]
  },
  {
   "cell_type": "code",
   "execution_count": 60,
   "metadata": {},
   "outputs": [
    {
     "name": "stdout",
     "output_type": "stream",
     "text": [
      "((((((((4.32315452587539 add cos(x[1])) add cos(x[1])) add cos(x[1])) add cos(x[1])) add cos(x[1])) add cos(x[1])) add cos(x[1])) subtract absolute(cos(x[1])))\n",
      "MSE (train): 36.4739\n"
     ]
    }
   ],
   "source": [
    "print(tree_to_string(best_tree))\n",
    "print(f\"MSE (train): {100*np.square(y-evaluate(best_tree,x)).sum()/len(y):g}\")"
   ]
  },
  {
   "cell_type": "markdown",
   "metadata": {},
   "source": [
    "### prova 3"
   ]
  },
  {
   "cell_type": "code",
   "execution_count": 18,
   "metadata": {},
   "outputs": [
    {
     "name": "stdout",
     "output_type": "stream",
     "text": [
      "Miglior albero finale:  ((absolute((6.117730529641008 add 0.5150538807928458)) multiply cos(x[1])) add ((((6.117730529641008 add 0.5150538807928458) add 0.5150538807928458) add ((((6.117730529641008 add 0.5150538807928458) add 0.5150538807928458) add (absolute((6.117730529641008 add 0.5150538807928458)) multiply cos(x[1]))) power 0.5150538807928458)) power 0.5150538807928458))\n",
      "MSE (train): 7.51795\n"
     ]
    }
   ],
   "source": [
    "problem = np.load('problem_4.npz')\n",
    "x = problem['x']\n",
    "y = problem['y']\n",
    "\n",
    "num_experiments = 10\n",
    "DEPTH = 3\n",
    "best_tree, best_fitness = select_best_tree(num_experiments, DEPTH, x, y)\n",
    "print('Miglior albero finale: ', tree_to_string(best_tree))\n",
    "print(f\"MSE (train): {100*np.square(y-evaluate(best_tree,x)).sum()/len(y):g}\")"
   ]
  },
  {
   "cell_type": "code",
   "execution_count": 17,
   "metadata": {},
   "outputs": [
    {
     "name": "stdout",
     "output_type": "stream",
     "text": [
      "Miglior albero finale:  ((((((((log(9.599800492150578) add cos(x[1])) add cos(x[1])) add cos(x[1])) add cos(x[1])) add cos(x[1])) add cos(x[1])) add cos(x[1])) add cos((x[1] subtract x[1])))\n",
      "MSE (train): 6.87446\n"
     ]
    }
   ],
   "source": [
    "problem = np.load('problem_4.npz')\n",
    "x = problem['x']\n",
    "y = problem['y']\n",
    "\n",
    "num_experiments = 10\n",
    "DEPTH = 3\n",
    "best_tree, best_fitness = select_best_tree(num_experiments, DEPTH, x, y)\n",
    "print('Miglior albero finale: ', tree_to_string(best_tree))\n",
    "print(f\"MSE (train): {100*np.square(y-evaluate(best_tree,x)).sum()/len(y):g}\")"
   ]
  },
  {
   "cell_type": "markdown",
   "metadata": {},
   "source": [
    "## Problem 5"
   ]
  },
  {
   "cell_type": "code",
   "execution_count": 62,
   "metadata": {},
   "outputs": [
    {
     "name": "stdout",
     "output_type": "stream",
     "text": [
      "Miglior albero: log((x[1] divide x[1]))\n",
      "Miglior albero: square((x[0] subtract x[0]))\n",
      "Miglior albero: absolute((x[0] subtract x[0]))\n",
      "Miglior albero: ((x[0] subtract x[0]) power 0.5257047306245456)\n",
      "Miglior albero: log10((x[1] divide x[1]))\n",
      "Miglior albero finale:  ('op', <function log at 0x00000218A8F92EE0>, ('op', <function divide at 0x00000218AB854160>, ('x', 1, None, None, <function divide at 0x00000218AB854160>), ('x', 1, None, None, <function divide at 0x00000218AB854160>), <function log at 0x00000218A8F92EE0>), None, None)     5.572810232617333e-18\n"
     ]
    }
   ],
   "source": [
    "problem = np.load('problem_5.npz')\n",
    "x = problem['x']\n",
    "y = problem['y']\n",
    "\n",
    "num_experiments = 5\n",
    "DEPTH = 2\n",
    "best_tree, best_fitness = select_best_tree(num_experiments, DEPTH, x, y)\n",
    "print('Miglior albero finale: ', best_tree, '   ', best_fitness)"
   ]
  },
  {
   "cell_type": "code",
   "execution_count": 63,
   "metadata": {},
   "outputs": [
    {
     "name": "stdout",
     "output_type": "stream",
     "text": [
      "log((x[1] divide x[1]))\n",
      "MSE (train): 5.57281e-16\n"
     ]
    }
   ],
   "source": [
    "print(tree_to_string(best_tree))\n",
    "print(f\"MSE (train): {100*np.square(y-evaluate(best_tree,x)).sum()/len(y):g}\")"
   ]
  },
  {
   "cell_type": "markdown",
   "metadata": {},
   "source": [
    "### prova 2"
   ]
  },
  {
   "cell_type": "code",
   "execution_count": 73,
   "metadata": {},
   "outputs": [
    {
     "name": "stdout",
     "output_type": "stream",
     "text": [
      "Miglior albero finale:  ('op', <function power at 0x00000208E1301E50>, ('op', <function subtract at 0x00000208DFF8A3A0>, ('x', 1, None, None, <function subtract at 0x00000208DFF8A3A0>), ('x', 1, None, None, <function subtract at 0x00000208DFF8A3A0>), <function power at 0x00000208E1301E50>), ('const', 1.203572808700951, None, None, <function power at 0x00000208E1301E50>), None)     5.572810232617333e-18\n"
     ]
    }
   ],
   "source": [
    "problem = np.load('problem_5.npz')\n",
    "x = problem['x']\n",
    "y = problem['y']\n",
    "\n",
    "num_experiments = 5\n",
    "DEPTH = 2\n",
    "best_tree, best_fitness = select_best_tree(num_experiments, DEPTH, x, y)\n",
    "print('Miglior albero finale: ', best_tree, '   ', best_fitness)"
   ]
  },
  {
   "cell_type": "code",
   "execution_count": 74,
   "metadata": {},
   "outputs": [
    {
     "name": "stdout",
     "output_type": "stream",
     "text": [
      "((x[1] subtract x[1]) power 1.203572808700951)\n",
      "MSE (train): 5.57281e-16\n"
     ]
    }
   ],
   "source": [
    "print(tree_to_string(best_tree))\n",
    "print(f\"MSE (train): {100*np.square(y-evaluate(best_tree,x)).sum()/len(y):g}\")"
   ]
  },
  {
   "cell_type": "code",
   "execution_count": 75,
   "metadata": {},
   "outputs": [
    {
     "name": "stdout",
     "output_type": "stream",
     "text": [
      "MSE (train): 5.57281e-16\n"
     ]
    }
   ],
   "source": [
    "def f_problem_5(x):\n",
    "    return np.power(\n",
    "    np.subtract(x[1], x[1]),\n",
    "    1.203572808700951\n",
    ")\n",
    "\n",
    "print(f\"MSE (train): {100*np.square(y-f_problem_5(x)).sum()/len(y):g}\")"
   ]
  },
  {
   "cell_type": "markdown",
   "metadata": {},
   "source": [
    "## Problem 6"
   ]
  },
  {
   "cell_type": "code",
   "execution_count": 64,
   "metadata": {},
   "outputs": [
    {
     "name": "stdout",
     "output_type": "stream",
     "text": [
      "Miglior albero: ((x[1] add x[1]) subtract x[0])\n",
      "Miglior albero: (((x[1] subtract x[0]) subtract x[0]) add (x[0] add x[1]))\n",
      "Miglior albero: (((x[1] add 0.8490975631076996) add (((x[1] add 0.8490975631076996) add (x[0] divide -4.470089586744139)) divide -4.470089586744139)) subtract (x[0] subtract x[1]))\n",
      "Miglior albero: ((x[1] subtract x[0]) add ((x[1] subtract ((x[1] subtract x[0]) divide 7.038301194783468)) subtract ((x[1] subtract x[0]) divide 7.038301194783468)))\n",
      "Miglior albero: ((x[1] multiply 1.6740943296502273) add (cos(4.867449659423141) subtract x[0]))\n",
      "Miglior albero finale:  ('op', <function add at 0x00000218AB83DF70>, ('op', <function subtract at 0x00000218AB854040>, ('x', 1, None, None, <function subtract at 0x00000218AB854040>), ('x', 0, None, None, <function subtract at 0x00000218AB854040>), <function add at 0x00000218AB83DF70>), ('op', <function subtract at 0x00000218AB854040>, ('op', <function subtract at 0x00000218AB854040>, ('x', 1, None, None, <function subtract at 0x00000218AB854040>), ('op', <function divide at 0x00000218AB854160>, ('op', <function subtract at 0x00000218AB854040>, ('x', 1, None, None, <function subtract at 0x00000218AB854040>), ('x', 0, None, None, <function subtract at 0x00000218AB854040>), <function add at 0x00000218AB83DF70>), ('const', 7.038301194783468, None, None, <function divide at 0x00000218AB854160>), <function add at 0x00000218AB83DF70>), <function add at 0x00000218AB83DF70>), ('op', <function divide at 0x00000218AB854160>, ('op', <function subtract at 0x00000218AB854040>, ('x', 1, None, None, <function subtract at 0x00000218AB854040>), ('x', 0, None, None, <function subtract at 0x00000218AB854040>), <function add at 0x00000218AB83DF70>), ('const', 7.038301194783468, None, None, <function divide at 0x00000218AB854160>), <function add at 0x00000218AB83DF70>), <function add at 0x00000218AB83DF70>), None)     0.007792178786186868\n"
     ]
    }
   ],
   "source": [
    "problem = np.load('problem_6.npz')\n",
    "x = problem['x']\n",
    "y = problem['y']\n",
    "\n",
    "num_experiments = 5\n",
    "DEPTH = 2\n",
    "best_tree, best_fitness = select_best_tree(num_experiments, DEPTH, x, y)\n",
    "print('Miglior albero finale: ', best_tree, '   ', best_fitness)"
   ]
  },
  {
   "cell_type": "code",
   "execution_count": 65,
   "metadata": {},
   "outputs": [
    {
     "name": "stdout",
     "output_type": "stream",
     "text": [
      "((x[1] subtract x[0]) add ((x[1] subtract ((x[1] subtract x[0]) divide 7.038301194783468)) subtract ((x[1] subtract x[0]) divide 7.038301194783468)))\n",
      "MSE (train): 0.779218\n"
     ]
    }
   ],
   "source": [
    "print(tree_to_string(best_tree))\n",
    "print(f\"MSE (train): {100*np.square(y-evaluate(best_tree,x)).sum()/len(y):g}\")"
   ]
  },
  {
   "cell_type": "code",
   "execution_count": 14,
   "metadata": {},
   "outputs": [],
   "source": [
    "problem = np.load('problem_6.npz')\n",
    "x = problem['x']\n",
    "y = problem['y']"
   ]
  },
  {
   "cell_type": "code",
   "execution_count": 15,
   "metadata": {},
   "outputs": [
    {
     "name": "stdout",
     "output_type": "stream",
     "text": [
      "MSE (train): 0.779218\n"
     ]
    }
   ],
   "source": [
    "def f_problem_6(x):\n",
    "    return np.add(np.subtract(x[1], x[0]), \n",
    "                np.subtract(np.subtract(x[1], np.divide(np.subtract(x[1], x[0]), 7.038301194783468)),\n",
    "                            np.divide(np.subtract(x[1], x[0]), 7.038301194783468)))\n",
    "\n",
    "print(f\"MSE (train): {100*np.square(y-f_problem_6(x)).sum()/len(y):g}\")"
   ]
  },
  {
   "cell_type": "markdown",
   "metadata": {},
   "source": [
    "## Problem 7"
   ]
  },
  {
   "cell_type": "code",
   "execution_count": 66,
   "metadata": {},
   "outputs": [
    {
     "name": "stdout",
     "output_type": "stream",
     "text": [
      "Miglior albero: absolute((((x[1] multiply x[0]) multiply (x[1] multiply x[0])) multiply ((x[1] multiply x[0]) subtract -5.460645453304853)))\n",
      "Miglior albero: square(((x[0] add x[1]) add (x[0] add x[1])))\n",
      "Miglior albero: absolute(((x[0] multiply (x[0] multiply x[1])) multiply -7.839984542987541))\n",
      "Miglior albero: (exp((x[0] multiply x[1])) multiply square(-2.1735315692220887))\n",
      "Miglior albero: (square(x[1]) power (x[1] multiply x[0]))\n",
      "Miglior albero finale:  ('op', <function multiply at 0x00000218AB8540D0>, ('op', <ufunc 'exp'>, ('op', <function multiply at 0x00000218AB8540D0>, ('x', 0, None, None, <function multiply at 0x00000218AB8540D0>), ('x', 1, None, None, <function multiply at 0x00000218AB8540D0>), <ufunc 'exp'>), None, <function multiply at 0x00000218AB8540D0>), ('op', <ufunc 'square'>, ('const', -2.1735315692220887, None, None, <function multiply at 0x00000218AB8540D0>), None, <function multiply at 0x00000218AB8540D0>), None)     330.69271304858205\n"
     ]
    }
   ],
   "source": [
    "problem = np.load('problem_7.npz')\n",
    "x = problem['x']\n",
    "y = problem['y']\n",
    "\n",
    "num_experiments = 5\n",
    "DEPTH = 2\n",
    "best_tree, best_fitness = select_best_tree(num_experiments, DEPTH, x, y)\n",
    "print('Miglior albero finale: ', best_tree, '   ', best_fitness)"
   ]
  },
  {
   "cell_type": "code",
   "execution_count": 67,
   "metadata": {},
   "outputs": [
    {
     "name": "stdout",
     "output_type": "stream",
     "text": [
      "(exp((x[0] multiply x[1])) multiply square(-2.1735315692220887))\n",
      "MSE (train): 33069.3\n"
     ]
    }
   ],
   "source": [
    "print(tree_to_string(best_tree))\n",
    "print(f\"MSE (train): {100*np.square(y-evaluate(best_tree,x)).sum()/len(y):g}\")"
   ]
  },
  {
   "cell_type": "markdown",
   "metadata": {},
   "source": [
    "### prova 2"
   ]
  },
  {
   "cell_type": "code",
   "execution_count": 81,
   "metadata": {},
   "outputs": [
    {
     "name": "stdout",
     "output_type": "stream",
     "text": [
      "Miglior albero finale:  ('op', <function multiply at 0x00000208E1301D30>, ('const', 4.616523103938919, None, None, <function power at 0x00000208E1301E50>), ('op', <ufunc 'exp'>, ('op', <function multiply at 0x00000208E1301D30>, ('x', 1, None, None, <function multiply at 0x00000208E1301D30>), ('x', 0, None, None, <function multiply at 0x00000208E1301D30>), <ufunc 'absolute'>), None, <function multiply at 0x00000208E1301D30>), None)     330.1103345808995\n"
     ]
    }
   ],
   "source": [
    "problem = np.load('problem_7.npz')\n",
    "x = problem['x']\n",
    "y = problem['y']\n",
    "\n",
    "num_experiments = 10\n",
    "DEPTH = 2\n",
    "best_tree, best_fitness = select_best_tree(num_experiments, DEPTH, x, y)\n",
    "print('Miglior albero finale: ', best_tree, '   ', best_fitness)"
   ]
  },
  {
   "cell_type": "code",
   "execution_count": 82,
   "metadata": {},
   "outputs": [
    {
     "name": "stdout",
     "output_type": "stream",
     "text": [
      "(4.616523103938919 multiply exp((x[1] multiply x[0])))\n",
      "MSE (train): 33011\n"
     ]
    }
   ],
   "source": [
    "print(tree_to_string(best_tree))\n",
    "print(f\"MSE (train): {100*np.square(y-evaluate(best_tree,x)).sum()/len(y):g}\")"
   ]
  },
  {
   "cell_type": "markdown",
   "metadata": {},
   "source": [
    "### prova 3"
   ]
  },
  {
   "cell_type": "code",
   "execution_count": 83,
   "metadata": {},
   "outputs": [
    {
     "name": "stdout",
     "output_type": "stream",
     "text": [
      "Miglior albero finale:  ('op', <function add at 0x00000208DFF75EE0>, ('op', <function subtract at 0x00000208DFF8A3A0>, ('op', <ufunc 'square'>, ('op', <function multiply at 0x00000208E1301D30>, ('op', <ufunc 'sin'>, ('x', 1, None, None, <function multiply at 0x00000208E1301D30>), None, <function multiply at 0x00000208E1301D30>), ('op', <function multiply at 0x00000208E1301D30>, ('op', <ufunc 'sin'>, ('x', 1, None, None, <function multiply at 0x00000208E1301D30>), None, <function multiply at 0x00000208E1301D30>), ('op', <function multiply at 0x00000208E1301D30>, ('op', <ufunc 'sin'>, ('x', 1, None, None, <function multiply at 0x00000208E1301D30>), None, <function multiply at 0x00000208E1301D30>), ('op', <function multiply at 0x00000208E1301D30>, ('op', <ufunc 'sin'>, ('x', 1, None, None, <function multiply at 0x00000208E1301D30>), None, <function multiply at 0x00000208E1301D30>), ('op', <function multiply at 0x00000208E1301D30>, ('op', <ufunc 'sin'>, ('x', 1, None, None, <function multiply at 0x00000208E1301D30>), None, <function multiply at 0x00000208E1301D30>), ('op', <function multiply at 0x00000208E1301D30>, ('op', <ufunc 'sin'>, ('x', 1, None, None, <function multiply at 0x00000208E1301D30>), None, <function multiply at 0x00000208E1301D30>), ('op', <function multiply at 0x00000208E1301D30>, ('op', <ufunc 'sin'>, ('x', 1, None, None, <function multiply at 0x00000208E1301D30>), None, <function multiply at 0x00000208E1301D30>), ('op', <function multiply at 0x00000208E1301D30>, ('op', <ufunc 'sin'>, ('x', 1, None, None, <function multiply at 0x00000208E1301D30>), None, <function multiply at 0x00000208E1301D30>), ('op', <function multiply at 0x00000208E1301D30>, ('op', <ufunc 'sin'>, ('x', 1, None, None, <function multiply at 0x00000208E1301D30>), None, <function multiply at 0x00000208E1301D30>), ('op', <function multiply at 0x00000208E1301D30>, ('op', <ufunc 'sin'>, ('x', 1, None, None, <function multiply at 0x00000208E1301D30>), None, <function multiply at 0x00000208E1301D30>), ('op', <function multiply at 0x00000208E1301D30>, ('op', <ufunc 'sin'>, ('x', 1, None, None, <function multiply at 0x00000208E1301D30>), None, <function multiply at 0x00000208E1301D30>), ('op', <function multiply at 0x00000208E1301D30>, ('op', <ufunc 'sin'>, ('x', 1, None, None, <function multiply at 0x00000208E1301D30>), None, <function multiply at 0x00000208E1301D30>), ('op', <function multiply at 0x00000208E1301D30>, ('op', <ufunc 'sin'>, ('x', 1, None, None, <function multiply at 0x00000208E1301D30>), None, <function multiply at 0x00000208E1301D30>), ('op', <function multiply at 0x00000208E1301D30>, ('op', <ufunc 'sin'>, ('x', 1, None, None, <function multiply at 0x00000208E1301D30>), None, <function multiply at 0x00000208E1301D30>), ('op', <function multiply at 0x00000208E1301D30>, ('op', <ufunc 'sin'>, ('x', 1, None, None, <function multiply at 0x00000208E1301D30>), None, <function multiply at 0x00000208E1301D30>), ('op', <function multiply at 0x00000208E1301D30>, ('op', <ufunc 'sin'>, ('x', 0, None, None, <function multiply at 0x00000208E1301D30>), None, <function multiply at 0x00000208E1301D30>), ('op', <ufunc 'square'>, ('op', <function multiply at 0x00000208E1301D30>, ('op', <ufunc 'sin'>, ('x', 1, None, None, <function multiply at 0x00000208E1301D30>), None, <function multiply at 0x00000208E1301D30>), ('op', <function multiply at 0x00000208E1301D30>, ('op', <ufunc 'sin'>, ('x', 0, None, None, <function multiply at 0x00000208E1301D30>), None, <function multiply at 0x00000208E1301D30>), ('op', <function multiply at 0x00000208E1301D30>, ('op', <ufunc 'sin'>, ('x', 1, None, None, <function multiply at 0x00000208E1301D30>), None, <function multiply at 0x00000208E1301D30>), ('op', <function multiply at 0x00000208E1301D30>, ('op', <ufunc 'sin'>, ('x', 1, None, None, <function multiply at 0x00000208E1301D30>), None, <function multiply at 0x00000208E1301D30>), ('op', <function multiply at 0x00000208E1301D30>, ('op', <ufunc 'sin'>, ('x', 0, None, None, <function multiply at 0x00000208E1301D30>), None, <function multiply at 0x00000208E1301D30>), ('op', <function multiply at 0x00000208E1301D30>, ('op', <ufunc 'sin'>, ('x', 0, None, None, <function multiply at 0x00000208E1301D30>), None, <function multiply at 0x00000208E1301D30>), ('op', <ufunc 'absolute'>, ('op', <function multiply at 0x00000208E1301D30>, ('op', <ufunc 'sin'>, ('x', 0, None, None, <function multiply at 0x00000208E1301D30>), None, <function multiply at 0x00000208E1301D30>), ('op', <function multiply at 0x00000208E1301D30>, ('op', <ufunc 'sin'>, ('x', 0, None, None, <function multiply at 0x00000208E1301D30>), None, <function multiply at 0x00000208E1301D30>), ('op', <ufunc 'absolute'>, ('op', <function multiply at 0x00000208E1301D30>, ('op', <ufunc 'sin'>, ('x', 0, None, None, <function multiply at 0x00000208E1301D30>), None, <function multiply at 0x00000208E1301D30>), ('op', <function multiply at 0x00000208E1301D30>, ('op', <ufunc 'sin'>, ('x', 1, None, None, <function multiply at 0x00000208E1301D30>), None, <function multiply at 0x00000208E1301D30>), ('op', <ufunc 'absolute'>, ('op', <ufunc 'absolute'>, ('op', <function multiply at 0x00000208E1301D30>, ('x', 0, None, None, <function multiply at 0x00000208E1301D30>), ('x', 1, None, None, <function multiply at 0x00000208E1301D30>), <function multiply at 0x00000208E1301D30>), None, <function multiply at 0x00000208E1301D30>), None, <function multiply at 0x00000208E1301D30>), <ufunc 'cos'>), <ufunc 'cos'>), None, <function multiply at 0x00000208E1301D30>), <ufunc 'cos'>), <ufunc 'cos'>), None, <function multiply at 0x00000208E1301D30>), <ufunc 'cos'>), <ufunc 'cos'>), <ufunc 'cos'>), <ufunc 'cos'>), <ufunc 'cos'>), <ufunc 'cos'>), None, <ufunc 'exp'>), <ufunc 'cos'>), <ufunc 'cos'>), <ufunc 'cos'>), <ufunc 'cos'>), <ufunc 'cos'>), <ufunc 'cos'>), <ufunc 'cos'>), <ufunc 'cos'>), <ufunc 'cos'>), <ufunc 'cos'>), <ufunc 'cos'>), <ufunc 'cos'>), <ufunc 'cos'>), <ufunc 'cos'>), <ufunc 'cos'>), <ufunc 'cos'>), None, <ufunc 'exp'>), ('const', -6.654030157337885, None, None, <function subtract at 0x00000208DFF8A3A0>), <function multiply at 0x00000208E1301D30>), ('op', <function multiply at 0x00000208E1301D30>, ('op', <function subtract at 0x00000208DFF8A3A0>, ('op', <ufunc 'exp'>, ('op', <function multiply at 0x00000208E1301D30>, ('x', 0, None, None, <function multiply at 0x00000208E1301D30>), ('x', 1, None, None, <function multiply at 0x00000208E1301D30>), <function multiply at 0x00000208E1301D30>), None, <function add at 0x00000208DFF75EE0>), ('const', -6.654030157337885, None, None, <function subtract at 0x00000208DFF8A3A0>), <function multiply at 0x00000208E1301D30>), ('op', <function multiply at 0x00000208E1301D30>, ('x', 0, None, None, <function multiply at 0x00000208E1301D30>), ('x', 1, None, None, <function multiply at 0x00000208E1301D30>), <function multiply at 0x00000208E1301D30>), <function add at 0x00000208DFF75EE0>), None)     313.4940346806034\n"
     ]
    }
   ],
   "source": [
    "problem = np.load('problem_7.npz')\n",
    "x = problem['x']\n",
    "y = problem['y']\n",
    "\n",
    "num_experiments = 10\n",
    "DEPTH = 3\n",
    "best_tree, best_fitness = select_best_tree(num_experiments, DEPTH, x, y)\n",
    "print('Miglior albero finale: ', best_tree, '   ', best_fitness)"
   ]
  },
  {
   "cell_type": "code",
   "execution_count": 84,
   "metadata": {},
   "outputs": [
    {
     "name": "stdout",
     "output_type": "stream",
     "text": [
      "((square((sin(x[1]) multiply (sin(x[1]) multiply (sin(x[1]) multiply (sin(x[1]) multiply (sin(x[1]) multiply (sin(x[1]) multiply (sin(x[1]) multiply (sin(x[1]) multiply (sin(x[1]) multiply (sin(x[1]) multiply (sin(x[1]) multiply (sin(x[1]) multiply (sin(x[1]) multiply (sin(x[1]) multiply (sin(x[1]) multiply (sin(x[0]) multiply square((sin(x[1]) multiply (sin(x[0]) multiply (sin(x[1]) multiply (sin(x[1]) multiply (sin(x[0]) multiply (sin(x[0]) multiply absolute((sin(x[0]) multiply (sin(x[0]) multiply absolute((sin(x[0]) multiply (sin(x[1]) multiply absolute(absolute((x[0] multiply x[1]))))))))))))))))))))))))))))))))) subtract -6.654030157337885) add ((exp((x[0] multiply x[1])) subtract -6.654030157337885) multiply (x[0] multiply x[1])))\n",
      "MSE (train): 31349.4\n"
     ]
    }
   ],
   "source": [
    "print(tree_to_string(best_tree))\n",
    "print(f\"MSE (train): {100*np.square(y-evaluate(best_tree,x)).sum()/len(y):g}\")"
   ]
  },
  {
   "cell_type": "markdown",
   "metadata": {},
   "source": [
    "## Problem 8"
   ]
  },
  {
   "cell_type": "code",
   "execution_count": 27,
   "metadata": {},
   "outputs": [
    {
     "name": "stdout",
     "output_type": "stream",
     "text": [
      "Miglior albero finale:  (23.82495597313178 subtract (square(-23.7940974885513) add (x[1] multiply x[1])))     22705839.260495044\n",
      "MSE (train): 2.27058e+09\n"
     ]
    }
   ],
   "source": [
    "problem = np.load('problem_8.npz')\n",
    "x = problem['x']\n",
    "y = problem['y']\n",
    "\n",
    "num_experiments = 1\n",
    "DEPTH = 3\n",
    "\n",
    "best_tree, best_fitness = select_best_tree(num_experiments, DEPTH, x, y)\n",
    "print('Miglior albero finale: ', tree_to_string(best_tree), '   ', best_fitness)\n",
    "print(f\"MSE (train): {100*np.square(y-evaluate(best_tree,x)).sum()/len(y):g}\")"
   ]
  },
  {
   "cell_type": "code",
   "execution_count": 28,
   "metadata": {},
   "outputs": [
    {
     "name": "stdout",
     "output_type": "stream",
     "text": [
      "Miglior albero finale:  (((((77.31121524249622 add 1.4018494655475018) add 1.9418212806343498) add 1.4018494655475018) add 1.9418212806343498) subtract (99.70869502552355 power 1.4018494655475018))     22705914.36559638\n",
      "MSE (train): 2.27059e+09\n"
     ]
    }
   ],
   "source": [
    "problem = np.load('problem_8.npz')\n",
    "x = problem['x']\n",
    "y = problem['y']\n",
    "\n",
    "num_experiments = 5\n",
    "DEPTH = 2\n",
    "\n",
    "best_tree, best_fitness = select_best_tree(num_experiments, DEPTH, x, y)\n",
    "print('Miglior albero finale: ', tree_to_string(best_tree), '   ', best_fitness)\n",
    "print(f\"MSE (train): {100*np.square(y-evaluate(best_tree,x)).sum()/len(y):g}\")"
   ]
  },
  {
   "cell_type": "code",
   "execution_count": 30,
   "metadata": {},
   "outputs": [
    {
     "name": "stdout",
     "output_type": "stream",
     "text": [
      "Miglior albero finale:  (square((square(((-17.36956496566218 subtract 91.95246462574642) divide -42.880831916293836)) subtract (sin(square((square(((-17.36956496566218 subtract 91.95246462574642) divide -42.880831916293836)) subtract ((square(((-17.36956496566218 subtract 91.95246462574642) divide -42.880831916293836)) subtract (sin(((-17.36956496566218 subtract 31.33195707647286) divide -42.880831916293836)) subtract 91.95246462574642)) subtract 91.95246462574642)))) subtract 91.95246462574642))) divide -17.36956496566218)     22705914.36560858\n",
      "MSE (train): 2.27059e+09\n"
     ]
    }
   ],
   "source": [
    "problem = np.load('problem_8.npz')\n",
    "x = problem['x']\n",
    "y = problem['y']\n",
    "\n",
    "num_experiments = 1\n",
    "DEPTH = 5\n",
    "\n",
    "best_tree, best_fitness = select_best_tree(num_experiments, DEPTH, x, y)\n",
    "print('Miglior albero finale: ', tree_to_string(best_tree), '   ', best_fitness)\n",
    "print(f\"MSE (train): {100*np.square(y-evaluate(best_tree,x)).sum()/len(y):g}\")"
   ]
  },
  {
   "cell_type": "code",
   "execution_count": 31,
   "metadata": {},
   "outputs": [
    {
     "name": "stdout",
     "output_type": "stream",
     "text": [
      "Miglior albero finale:  (square(square(2.307971005290181)) subtract (log(exp(absolute(absolute(((x[1] subtract x[1]) add sqrt(72.56293957235948)))))) power 2.97338769306789))     22705947.734172314\n",
      "MSE (train): 2.27059e+09\n"
     ]
    }
   ],
   "source": [
    "problem = np.load('problem_8.npz')\n",
    "x = problem['x']\n",
    "y = problem['y']\n",
    "\n",
    "num_experiments = 1\n",
    "DEPTH = 6\n",
    "\n",
    "best_tree, best_fitness = select_best_tree(num_experiments, DEPTH, x, y)\n",
    "print('Miglior albero finale: ', tree_to_string(best_tree), '   ', best_fitness)\n",
    "print(f\"MSE (train): {100*np.square(y-evaluate(best_tree,x)).sum()/len(y):g}\")"
   ]
  },
  {
   "cell_type": "code",
   "execution_count": 32,
   "metadata": {},
   "outputs": [
    {
     "name": "stdout",
     "output_type": "stream",
     "text": [
      "Miglior albero finale:  ((((-84.45000735277137 add (-84.45000735277137 add -46.21596215547494)) add -46.21596215547494) add (((-84.45000735277137 add (-84.45000735277137 add -46.21596215547494)) add -46.21596215547494) add -46.21596215547494)) subtract ((sin(sin(sin(sin(0.4731332244475872)))) power 2.9610127102077795) multiply ((-84.45000735277137 add (-84.45000735277137 add -46.21596215547494)) add -46.21596215547494)))     22705914.369668227\n",
      "MSE (train): 2.27059e+09\n"
     ]
    }
   ],
   "source": [
    "problem = np.load('problem_8.npz')\n",
    "x = problem['x']\n",
    "y = problem['y']\n",
    "\n",
    "num_experiments = 1\n",
    "DEPTH = 7\n",
    "\n",
    "best_tree, best_fitness = select_best_tree(num_experiments, DEPTH, x, y)\n",
    "print('Miglior albero finale: ', tree_to_string(best_tree), '   ', best_fitness)\n",
    "print(f\"MSE (train): {100*np.square(y-evaluate(best_tree,x)).sum()/len(y):g}\")"
   ]
  },
  {
   "cell_type": "code",
   "execution_count": 36,
   "metadata": {},
   "outputs": [
    {
     "name": "stdout",
     "output_type": "stream",
     "text": [
      "Miglior albero finale:  ((((123.53358234281495 subtract 718.2788914418215) divide 123.53358234281495) subtract (123.53358234281495 add 421.37832983296175)) subtract ((123.53358234281495 subtract 421.37832983296175) divide (x[1] multiply ((x[1] multiply -745.3360084664045) subtract 718.2788914418215))))     22704431.043448012\n",
      "MSE (train): 2.27044e+09\n"
     ]
    }
   ],
   "source": [
    "# aumento costanti\n",
    "problem = np.load('problem_8.npz')\n",
    "x = problem['x']\n",
    "y = problem['y']\n",
    "\n",
    "num_experiments = 5\n",
    "DEPTH = 3\n",
    "\n",
    "best_tree, best_fitness = select_best_tree(num_experiments, DEPTH, x, y)\n",
    "print('Miglior albero finale: ', tree_to_string(best_tree), '   ', best_fitness)\n",
    "print(f\"MSE (train): {100*np.square(y-evaluate(best_tree,x)).sum()/len(y):g}\")"
   ]
  }
 ],
 "metadata": {
  "kernelspec": {
   "display_name": "base",
   "language": "python",
   "name": "python3"
  },
  "language_info": {
   "codemirror_mode": {
    "name": "ipython",
    "version": 3
   },
   "file_extension": ".py",
   "mimetype": "text/x-python",
   "name": "python",
   "nbconvert_exporter": "python",
   "pygments_lexer": "ipython3",
   "version": "3.9.13"
  }
 },
 "nbformat": 4,
 "nbformat_minor": 2
}
